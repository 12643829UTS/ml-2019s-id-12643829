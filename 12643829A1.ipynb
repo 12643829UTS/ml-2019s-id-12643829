{
  "nbformat": 4,
  "nbformat_minor": 0,
  "metadata": {
    "colab": {
      "name": "12643829A1.ipynb",
      "version": "0.3.2",
      "provenance": [],
      "collapsed_sections": [],
      "include_colab_link": true
    },
    "kernelspec": {
      "name": "python3",
      "display_name": "Python 3"
    }
  },
  "cells": [
    {
      "cell_type": "markdown",
      "metadata": {
        "id": "view-in-github",
        "colab_type": "text"
      },
      "source": [
        "<a href=\"https://colab.research.google.com/github/12643829UTS/ml-2019s-id-12643829/blob/master/12643829A1.ipynb\" target=\"_parent\"><img src=\"https://colab.research.google.com/assets/colab-badge.svg\" alt=\"Open In Colab\"/></a>"
      ]
    },
    {
      "cell_type": "markdown",
      "metadata": {
        "id": "ZyhhILa1mHyq",
        "colab_type": "text"
      },
      "source": [
        "\n",
        "# Review report on “Eigenfaces vs. Fisherfaces : Recognition Using Class Specific Linear Projection”"
      ]
    },
    {
      "cell_type": "markdown",
      "metadata": {
        "id": "GABUb8NBm3DJ",
        "colab_type": "text"
      },
      "source": [
        "# Introduction\n",
        " Machine learning in recent years has been described as one of the most significant learning area in information technology however, there are many algorithms and each of these algorithms after combining, changing, reduce dimensionality can deliver different results under some analytical conditions.\n",
        "Nowadays, there are some unique algorithms especially in face recognition. According to reviewed report, face recognization techniques is based on two oberservations :\n",
        "\n",
        "\n",
        "1.   Lambertian surface which take from fixed viewpoint\n",
        "2.   Shadowing, specularities and facial expression\n",
        "by observing the analytical results, it illustrated the advantages and disadvantage for each algorithms by those following content in this report.\n",
        "\n",
        "\n"
      ]
    },
    {
      "cell_type": "markdown",
      "metadata": {
        "id": "XVOvlVBxnDHp",
        "colab_type": "text"
      },
      "source": [
        "# Content\n",
        "In this paper the data scientists developed a new algothrims for face recognition which is not sensitive to the huge variance in lighting and facial expression, however the analytical results are exactly same as they expectation. Even through the new algothrims are based on FLD (Fisher's Linear Discriminant) has the outstanding results but it does not mean the rest algothrims are not working in this condition.\n",
        "Those scientist also list four algothrims' method in face recognization:\n",
        "\n",
        "\n",
        "*   Correlation\n",
        "*   Eigenfaces\n",
        "*   Linear Subspaces\n",
        "*   Fisherfaces\n",
        "\n",
        "During the experimental testing they did not made any attempt in posed variation only because they decided to choosen the face has been located and aligned within the image which avoding to make any posed variation calculation in experment, whereas this is not the only problem at that moment.\n",
        "There are also some side effects or problems can be listed as follow:\n",
        "\n",
        "*   Correlation neea a learning set for possible lighting conditions for analytics\n",
        "*   computationally expensive\n",
        "*   triple-time expensive\n",
        "*   large amount of storage for some algothrims\n",
        "*   Eigenvectors will have same dimension as original images', unwanted information created\n",
        "*   due to self-shadowing, specularities and facia expressions, in some region of image will no be clusterd by linear subspace model\n",
        "*   must calculate the distance to linear subspace for each person's images.\n",
        "*   the within-class scatter matrix Sw in R^n* n is always singular \n",
        "*   High standard database required\n",
        "\n",
        "\n",
        "\n",
        "In the end of expermential analysis, the project leads the mainstearm into fisherface recognization by 2 variations and one unique methond which called glasses recognization where attempt to make a comparation between these four algothrims and figure out which one is the best to fit those variation conditions. \n",
        "\n",
        "\n",
        "\n",
        "\n",
        "\n",
        "\n"
      ]
    },
    {
      "cell_type": "markdown",
      "metadata": {
        "id": "QaFg23BvnDXu",
        "colab_type": "text"
      },
      "source": [
        "# Innovation\n",
        "The novelty in this academic research is very intersting. Althtough those algothrims has been rised few decades ago while with new variation change in lighting and different angle for images, the results and error rate can be delivered by many ways.\n",
        "For example in fisherface, there a few innovation things like the comparison between PCA and FLD, which can be avoid within-class scatter matrix Sw become nonsingular and also required to reduce dimension of the feature space in N minus c(*N - c*)range, after then, applied standard FLD to reduce the demension to *c - 1*\n",
        "However, there is another way to solve within-class scatter, which is maximize.\n",
        "Maximization needs to take an extreme condition, which means break the constraint that the within-class scatter is zero.\n",
        "The paper also contribute the method for light source directions for testing set in analysis. By giving different variation in lighing, image subsets giving different pixels and from testing results for lighting direction subset and extrapolating from subset-1 we can tell that Fisherface have lowest error rate between other algothrims.\n",
        "Another experimental results are come from variation in face expression, eye wear and lighting. In this section, there are some different from previous test, and a new method which called \"*leaving one out*\" which means, if there is 10 person in test and each person takes 10 images, in testing condition there will be only 9 person have 10 images, and the testing one only have 9 images.After reduce dimensionality of this experimental results, the fisherface error rate reduced, from 7.3% to 0.6%.\n",
        "The last testing is about a class specific, which means, taking data from Yale database to do the facial expression and make a specific condition for these data, one is *Wearing glasses* , another  is *not wearing glasses* and the final results for this can be described as Fisherface only have 5.3% of error rate which is 1/10 for PCA method."
      ]
    },
    {
      "cell_type": "markdown",
      "metadata": {
        "id": "KrnNlZejnDbx",
        "colab_type": "text"
      },
      "source": [
        "# Technical quality"
      ]
    },
    {
      "cell_type": "markdown",
      "metadata": {
        "id": "aR8by9aEnDqE",
        "colab_type": "text"
      },
      "source": [
        "# Application and X-factor"
      ]
    },
    {
      "cell_type": "markdown",
      "metadata": {
        "id": "jlXUyZNfnD0d",
        "colab_type": "text"
      },
      "source": [
        "# Presentation"
      ]
    },
    {
      "cell_type": "markdown",
      "metadata": {
        "id": "_CBpMno3nbMN",
        "colab_type": "text"
      },
      "source": [
        "# References"
      ]
    }
  ]
}