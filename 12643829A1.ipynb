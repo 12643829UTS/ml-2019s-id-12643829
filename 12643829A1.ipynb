{
  "nbformat": 4,
  "nbformat_minor": 0,
  "metadata": {
    "colab": {
      "name": "12643829A1.ipynb",
      "version": "0.3.2",
      "provenance": [],
      "include_colab_link": true
    },
    "kernelspec": {
      "name": "python3",
      "display_name": "Python 3"
    }
  },
  "cells": [
    {
      "cell_type": "markdown",
      "metadata": {
        "id": "view-in-github",
        "colab_type": "text"
      },
      "source": [
        "<a href=\"https://colab.research.google.com/github/12643829UTS/ml-2019s-id-12643829/blob/master/12643829A1.ipynb\" target=\"_parent\"><img src=\"https://colab.research.google.com/assets/colab-badge.svg\" alt=\"Open In Colab\"/></a>"
      ]
    },
    {
      "cell_type": "markdown",
      "metadata": {
        "id": "ZyhhILa1mHyq",
        "colab_type": "text"
      },
      "source": [
        "\n",
        "# Review report on “Eigenfaces vs. Fisherfaces : Recognition Using Class Specific Linear Projection”"
      ]
    },
    {
      "cell_type": "markdown",
      "metadata": {
        "id": "GABUb8NBm3DJ",
        "colab_type": "text"
      },
      "source": [
        "# Introduction"
      ]
    },
    {
      "cell_type": "markdown",
      "metadata": {
        "id": "XVOvlVBxnDHp",
        "colab_type": "text"
      },
      "source": [
        "# Content\n",
        "\n"
      ]
    },
    {
      "cell_type": "markdown",
      "metadata": {
        "id": "QaFg23BvnDXu",
        "colab_type": "text"
      },
      "source": [
        "# Innovation"
      ]
    },
    {
      "cell_type": "markdown",
      "metadata": {
        "id": "KrnNlZejnDbx",
        "colab_type": "text"
      },
      "source": [
        "# Technical quality"
      ]
    },
    {
      "cell_type": "markdown",
      "metadata": {
        "id": "aR8by9aEnDqE",
        "colab_type": "text"
      },
      "source": [
        "# Application and X-factor"
      ]
    },
    {
      "cell_type": "markdown",
      "metadata": {
        "id": "jlXUyZNfnD0d",
        "colab_type": "text"
      },
      "source": [
        "# Presentation"
      ]
    },
    {
      "cell_type": "markdown",
      "metadata": {
        "id": "_CBpMno3nbMN",
        "colab_type": "text"
      },
      "source": [
        "# References"
      ]
    }
  ]
}