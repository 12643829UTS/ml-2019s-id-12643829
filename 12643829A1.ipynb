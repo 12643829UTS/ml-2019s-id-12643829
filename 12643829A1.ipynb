{
  "nbformat": 4,
  "nbformat_minor": 0,
  "metadata": {
    "colab": {
      "name": "12643829A1.ipynb",
      "version": "0.3.2",
      "provenance": [],
      "include_colab_link": true
    },
    "kernelspec": {
      "name": "python3",
      "display_name": "Python 3"
    }
  },
  "cells": [
    {
      "cell_type": "markdown",
      "metadata": {
        "id": "view-in-github",
        "colab_type": "text"
      },
      "source": [
        "<a href=\"https://colab.research.google.com/github/12643829UTS/ml-2019s-id-12643829/blob/master/12643829A1.ipynb\" target=\"_parent\"><img src=\"https://colab.research.google.com/assets/colab-badge.svg\" alt=\"Open In Colab\"/></a>"
      ]
    },
    {
      "cell_type": "markdown",
      "metadata": {
        "id": "ZyhhILa1mHyq",
        "colab_type": "text"
      },
      "source": [
        "\n",
        "# Review report on “Eigenfaces vs. Fisherfaces : Recognition Using Class Specific Linear Projection”"
      ]
    }
  ]
}