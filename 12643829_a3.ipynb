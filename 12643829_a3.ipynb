{
  "nbformat": 4,
  "nbformat_minor": 0,
  "metadata": {
    "colab": {
      "name": "12643829 a3.ipynb",
      "provenance": [],
      "collapsed_sections": [],
      "toc_visible": true,
      "include_colab_link": true
    },
    "kernelspec": {
      "name": "python2",
      "display_name": "Python 2"
    }
  },
  "cells": [
    {
      "cell_type": "markdown",
      "metadata": {
        "id": "view-in-github",
        "colab_type": "text"
      },
      "source": [
        "<a href=\"https://colab.research.google.com/github/12643829UTS/ml-2019s-id-12643829/blob/master/12643829_a3.ipynb\" target=\"_parent\"><img src=\"https://colab.research.google.com/assets/colab-badge.svg\" alt=\"Open In Colab\"/></a>"
      ]
    },
    {
      "cell_type": "code",
      "metadata": {
        "id": "nAadyd0GJILX",
        "colab_type": "code",
        "colab": {}
      },
      "source": [
        ""
      ],
      "execution_count": 0,
      "outputs": []
    },
    {
      "cell_type": "markdown",
      "metadata": {
        "id": "CQ6tX-WBJNbM",
        "colab_type": "text"
      },
      "source": [
        "## Machine Learning Assignment 3 31005\n",
        "## Take home exam\n",
        "### Qianli Ma\t12643829\n"
      ]
    },
    {
      "cell_type": "markdown",
      "metadata": {
        "id": "rug4g_iRKaFk",
        "colab_type": "text"
      },
      "source": [
        "## Question 3 : Twitter massage would speard as a meme or not ?"
      ]
    },
    {
      "cell_type": "markdown",
      "metadata": {
        "id": "lfpj19coLHEd",
        "colab_type": "text"
      },
      "source": [
        "Constructing a meme in such a way that it becomes viral is the dream of every marketing agency but the reason why this is difficult is the multivariate nature of the factors affecting meme predictability. It is not easy to pinpoint the actual factor that leads to meme popularity since it could also be a result of a combination of various factors. Factors such as the timing of the meme, the nature of the news, the target audience, person sharing the meme, and the platform where the meme is shared contribute towards the potential virality of memes (Ma, Feng & Lai, 2018). In this paper, the discussion will center on two approaches that predictive analytics experts employ when trying to determine the virality of a meme before it goes viral. \n",
        "\n",
        "The first approach is based on time analysis and is known as time-series analysis. In this approach, data scientists focus their research on the previous interactivity patterns of memes based on the time of their posting and sharing. The time it takes for a meme to stay viral is also considered during the study including the decay period. This analysis helps to determine the relationships that exist between the time the meme was posted and the time it gained virality (Ma, Feng & Lai, 2018). Knowing the decay period reveals information that could be useful in determining the marketing period the marketing campaign that could be created in anticipation of viral memes. The kind of marketing campaign that is created in anticipation of viral tweets depends on the time period it takes for meme to go viral. \n",
        "\n",
        "Some marketing campaigns are aimed at taking advantage of some memes to increase sales. In such cases, reactive measures to such memes are advantageous and the time taken to react to such memes is not of much consequence to the company whose products are in question. However, in cases where the viral meme is negative and seeks to negatively damage the sales of a product, the timing of a response campaign is crucial. The speed of the internet and the power of social media is such that information can reach billions of people within minutes of its publishing. For people that have to deal with negative publicity that could potentially derail sales or even cause mass boycotting of products and nose-diving of sales, it is imperative that the predictive system that alerts the users before a meme goes viral is used as opposed to the reactive model.\n",
        "\n",
        "The second approach to predictive data analytics is the classification approach. With this approach, the model uses the features of a meme to determine its potential virality in the future. The distinguishing features of each meme are studied by the machine learning systems in advance to enable them to identify patterns in previous memes. Massive data sets are fed into the machine learning system. For the case of memes, millions of messages from various microblogging services such as Twitter are used (Li, Cranmer, Zheng, & Mucha, 2019). The content of a meme, nature of reaction to it, and the source of every viral message are studied in detail. Regarding the source of the meme, a person retweeting the information could be the cause of the virality and not the original source. Therefore, the networks of the people involved in the sharing process are also a distinguishing feature that plays a critical role in determining the virality of a meme. \n",
        "The classification approach relies heavily on the features of the memes such as the content which attracts complexities of languages. Normal language and internet language could differ significantly depending on whether the group, person or people engaged in the discussion are doing it officially or informally. Most of the time, language use if informal and filled with slang. The data analytics software and models face the challenge of having to learn the ever-evolving slang language in order to make accurate predictions. It means, therefore, that the machine learning system needs to continuously update its vocabulary to ensure that it can make the right decisions when analyzing a meme (Coman et al., 2018). However, from time to time, human interpretations could be required especially after the predictive models flag specific tweets that could be potentially viral based on the activity on these memes. \n",
        "\n",
        "The validation process for these two approaches relies on a few factors. The source of data is the main issue that determines the accuracy of the results obtained. Sites such as Twitter are considered to have less spam content especially due to the age-groups using these platforms (Davis et al., 2016). Secondly, the post-mortem approach where the predictive accuracy is compared to previous results is another major factor used in determining the validity of results. If an analytics system is consistently giving accurate results on previous meme predictions, then its future results could be relied upon to make important marketing and response decisions. \n",
        "\n",
        "The study of data analytics to predict meme virality has both ethical and social consequences. The data used in the study belong to people whose informed consent is not always sought before their data can be used. In the recent past, there have been issues with data privacy with social media companies such as Facebook having to defend their use of private information obtained from users. The study of social media platform user’s postings and comments may invade the privacy of users, some of whom would rather remain anonymous (Davis et al., 2016). It would be ethical if users would be notified and their consent sought before their data is used in any study that could affect them personally. In the social sense, the study’s goals are to predict and influence consumer behavior. Influencing consumer behavior through viral online campaigns also has serious effects on their decision making processes. In politics, users of social media platforms are at risk of being fed with propaganda that they may not have time to verify its authenticity before making political decisions. \n",
        "\n",
        "In conclusion, it has become apparent that social media platforms have a huge role to play in the modern age. Marketers are taking advantage of this platform by using machine learning to predict patterns of viral memes and products. Companies are then using this information to create viral memes and products thus gaining the attention of many users some of who convert to customers. The exploitation of viral memes, however, has far-reaching consequences of users being unconsciously influenced to make some decisions. While the risks of the use of machine learning in memes are clear, the advantages such as having the ability to avert reputation loss due to malicious viral memes support such studies. \n"
      ]
    },
    {
      "cell_type": "code",
      "metadata": {
        "id": "EIzpsbCEPbGT",
        "colab_type": "code",
        "colab": {}
      },
      "source": [
        "from google.colab import files\n",
        "uploaded = files.upload()\n",
        "for fn in uploaded.keys():\n",
        "  print('User uploaded file \"{name}\" with length {length} bytes'.format(\n",
        "      name=fn, length=len(uploaded[fn])))"
      ],
      "execution_count": 0,
      "outputs": []
    },
    {
      "cell_type": "markdown",
      "metadata": {
        "id": "6pbTAikiLPjp",
        "colab_type": "text"
      },
      "source": [
        "## References\n",
        "Coman, A. C., Zara, G., Nechaev, Y., Barlacchi, G., & Moschitti, A. 2018, ‘Exploiting Deep Neural Networks for Tweet-based Emoji Prediction.’ International Workshop on Semantic Evaluation, vol. 4, pp. 1.\n",
        "Davis, C. A., Ciampaglia, G. L., Aiello, L. M., Chung, K., Conover, M. D., Ferrara, E., & Grabowicz, P. A. 2016, ‘OSoMe: the IUNI observatory on social media.’ PeerJ Computer Science, vol. 2, no. 1, pp.87.\n",
        "Li, W., Cranmer, S. J., Zheng, Z., & Mucha, P. J. 2019, ‘Infectivity enhances prediction of viral cascades on Twitter.’ PloS | one, vol. 14, no. 4. Doi:0214453\n",
        "Ma, S., Feng, L., & Lai, C. H. 2018, ‘Mechanistic modeling of viral spreading on empirical social network and popularity prediction.’ Scientific reports, vol. 8, no. 1, Doi:13126.\n"
      ]
    }
  ]
}